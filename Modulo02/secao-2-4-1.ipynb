{
 "cells": [
  {
   "cell_type": "markdown",
   "metadata": {},
   "source": [
    "# Variáveis\n"
   ]
  },
  {
   "cell_type": "code",
   "execution_count": 18,
   "metadata": {},
   "outputs": [
    {
     "name": "stdout",
     "output_type": "stream",
     "text": [
      "45\n",
      "46\n"
     ]
    }
   ],
   "source": [
    "idade = 45\n",
    "print(idade)\n",
    "idade = idade +1\n",
    "print(idade)\n"
   ]
  },
  {
   "cell_type": "markdown",
   "metadata": {},
   "source": [
    "### Regras para o nome de uma VARIÁVEL\n",
    "- Deve-se iniciar com letra ou underline (_)\n",
    "- Não pode conter caractere especial \n",
    "- Pode-se usar letras, números ou (_), atendendo sempre ao primeiro item\n",
    "- O Python faz diferença entre maiuscula e minuscula\n",
    "- Não pode ser uma paralavra reservada do python"
   ]
  },
  {
   "cell_type": "markdown",
   "metadata": {},
   "source": []
  },
  {
   "cell_type": "markdown",
   "metadata": {},
   "source": [
    "### Laboratório 2.4.7"
   ]
  },
  {
   "cell_type": "code",
   "execution_count": 19,
   "metadata": {},
   "outputs": [
    {
     "name": "stdout",
     "output_type": "stream",
     "text": [
      "3,5,6\n",
      "Total de maçãs: 14\n"
     ]
    }
   ],
   "source": [
    "John = 3\n",
    "Mary = 5\n",
    "Adam = 6\n",
    "print (John, Mary, Adam, sep=\",\")\n",
    "total_apples = John + Mary + Adam\n",
    "print(\"Total de maçãs:\", total_apples)\n"
   ]
  },
  {
   "cell_type": "markdown",
   "metadata": {},
   "source": [
    "### Operador de atalhos\n",
    "operador = operador operação valor => operador operaçao= valor resumido\n",
    "idade = idade + 5 => indade += 5"
   ]
  },
  {
   "cell_type": "code",
   "execution_count": 23,
   "metadata": {},
   "outputs": [
    {
     "name": "stdout",
     "output_type": "stream",
     "text": [
      "7\n",
      "37\n"
     ]
    }
   ],
   "source": [
    "variavel = 2 \n",
    "#variavel = variavel + 5\n",
    "variavel += 5\n",
    "print(variavel)\n",
    "variavel = variavel * 5 + 2\n",
    "#variavel *= 5 + 2\n",
    "print(variavel)\n",
    "\n"
   ]
  },
  {
   "cell_type": "markdown",
   "metadata": {},
   "source": [
    "### Laboratório 2.4.9\n"
   ]
  },
  {
   "cell_type": "code",
   "execution_count": 24,
   "metadata": {},
   "outputs": [
    {
     "name": "stdout",
     "output_type": "stream",
     "text": [
      "7.38 milhas é 11.88 quilômetros\n",
      "12.25 quilômetros é 7.61 milhas\n"
     ]
    }
   ],
   "source": [
    "kilometers = 12.25\n",
    "miles = 7.38\n",
    "one_miles_in_km = 1.61\n",
    "miles_to_kilometers = miles * one_miles_in_km\n",
    "kilometers_to_miles = kilometers / one_miles_in_km\n",
    "\n",
    "print(miles, \"milhas é\", round(miles_to_kilometers, 2), \"quilômetros\")\n",
    "print(kilometers, \"quilômetros é\", round(kilometers_to_miles, 2), \"milhas\")\n"
   ]
  },
  {
   "cell_type": "markdown",
   "metadata": {},
   "source": [
    "# LAboratório 2.4.10\n",
    "- x = 0 => y = -1.0\n",
    "- x = 1 => y = 3.0\n",
    "- x = -1 => y = -9.0"
   ]
  },
  {
   "cell_type": "code",
   "execution_count": 33,
   "metadata": {},
   "outputs": [
    {
     "name": "stdout",
     "output_type": "stream",
     "text": [
      "y= -9.0\n"
     ]
    }
   ],
   "source": [
    "x = -1\n",
    "x = float(x)\n",
    "y= 3*x**3-2*x**2+3*x-1 \n",
    "print(\"y=\", y)\n"
   ]
  }
 ],
 "metadata": {
  "kernelspec": {
   "display_name": ".venv",
   "language": "python",
   "name": "python3"
  },
  "language_info": {
   "codemirror_mode": {
    "name": "ipython",
    "version": 3
   },
   "file_extension": ".py",
   "mimetype": "text/x-python",
   "name": "python",
   "nbconvert_exporter": "python",
   "pygments_lexer": "ipython3",
   "version": "3.13.2"
  }
 },
 "nbformat": 4,
 "nbformat_minor": 2
}
