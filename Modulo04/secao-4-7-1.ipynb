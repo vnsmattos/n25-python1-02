{
 "cells": [
  {
   "cell_type": "markdown",
   "metadata": {},
   "source": [
    "# 4.7.1 - Exceções\n",
    "Tratamentos de erros no Python"
   ]
  },
  {
   "cell_type": "code",
   "execution_count": null,
   "metadata": {},
   "outputs": [
    {
     "name": "stdout",
     "output_type": "stream",
     "text": [
      "Ocorreu um erro!\n",
      "Fim do programa\n"
     ]
    }
   ],
   "source": [
    "# Exemplo de erro de execução de código - Tratamento genérico\n",
    "try: \n",
    "    valor = int(input(\"digite um valor: \"))\n",
    "    print(\"O valor resultante será: \", 1/valor)\n",
    "except: \n",
    "    print(\"Ocorreu um erro!\")\n",
    "    print(\"Fim do programa\")"
   ]
  },
  {
   "cell_type": "code",
   "execution_count": null,
   "metadata": {},
   "outputs": [
    {
     "name": "stdout",
     "output_type": "stream",
     "text": [
      "O valor resultante será:  0.5\n",
      "Outro erro ocorreu! list index out of range\n",
      "Fim do programa\n"
     ]
    }
   ],
   "source": [
    "# Exemplo de erro de execução de código - Tratamento de erro específico (0 e letras) * O erro deste código está no indice 5 da lista - linha 6\n",
    "try: \n",
    "    valor = int(input(\"digite um valor: \"))\n",
    "    print(\"O valor resultante será: \", 1/valor)\n",
    "    lista = [1,2,3]\n",
    "    print(lista[5])\n",
    "except ValueError: \n",
    "    print(\"Ocorreu um erro de conversão! Somente números!\")\n",
    "except ZeroDivisionError:\n",
    "    print(\"Ocorreu um erro de divisão por zero!\")\n",
    "except Exception as e:\n",
    "    print(\"Outro erro ocorreu!\", e)\n",
    "print(\"Fim do programa\")"
   ]
  },
  {
   "cell_type": "code",
   "execution_count": 21,
   "metadata": {},
   "outputs": [
    {
     "name": "stdout",
     "output_type": "stream",
     "text": [
      "O valor resultante será:  0.3333333333333333\n",
      "Outro erro ocorreu! list index out of range\n",
      "Fim do programa\n"
     ]
    }
   ],
   "source": [
    "# Exemplo de erro de execução de código - Tratamento de erro específico (0 e letras) * O erro deste código está no indice 5 da lista - linha 6\n",
    "# Os erros são tratados da exceção para os genericos (no sentido do programa)\n",
    "try: \n",
    "    valor = int(input(\"digite um valor: \"))\n",
    "    print(\"O valor resultante será: \", 1/valor)\n",
    "    lista = [1,2,3]\n",
    "    print(lista[5])\n",
    "except (ValueError,ZeroDivisionError): \n",
    "    print(\"Ocorreu um erro de conversão! Somente números! ou\")\n",
    "# except ZeroDivisionError:\n",
    "# print(\"Ocorreu um erro de divisão por zero!\")\n",
    "except Exception as e:\n",
    "    print(\"Outro erro ocorreu!\", e)\n",
    "print(\"Fim do programa\")"
   ]
  }
 ],
 "metadata": {
  "kernelspec": {
   "display_name": ".venv",
   "language": "python",
   "name": "python3"
  },
  "language_info": {
   "codemirror_mode": {
    "name": "ipython",
    "version": 3
   },
   "file_extension": ".py",
   "mimetype": "text/x-python",
   "name": "python",
   "nbconvert_exporter": "python",
   "pygments_lexer": "ipython3",
   "version": "3.13.2"
  }
 },
 "nbformat": 4,
 "nbformat_minor": 2
}
