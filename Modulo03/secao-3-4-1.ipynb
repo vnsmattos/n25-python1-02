{
 "cells": [
  {
   "cell_type": "code",
   "execution_count": null,
   "metadata": {},
   "outputs": [],
   "source": [
    "# Seção 3.4 Listas"
   ]
  },
  {
   "cell_type": "code",
   "execution_count": 4,
   "metadata": {},
   "outputs": [
    {
     "name": "stdout",
     "output_type": "stream",
     "text": [
      "3\n",
      "[1, 2, 9, 4, 5, 6]\n",
      "6\n"
     ]
    }
   ],
   "source": [
    "# Representando uma lista\n",
    "lista = [1, 2, 3, 4, 5, 6]\n",
    "print(lista[2])\n",
    "lista[2] = 9 # alterando o item da posição 2\n",
    "print(lista)\n",
    "print(len(lista)) # retorna o tamnho da lista\n",
    "\n"
   ]
  }
 ],
 "metadata": {
  "kernelspec": {
   "display_name": ".venv",
   "language": "python",
   "name": "python3"
  },
  "language_info": {
   "codemirror_mode": {
    "name": "ipython",
    "version": 3
   },
   "file_extension": ".py",
   "mimetype": "text/x-python",
   "name": "python",
   "nbconvert_exporter": "python",
   "pygments_lexer": "ipython3",
   "version": "3.13.2"
  }
 },
 "nbformat": 4,
 "nbformat_minor": 2
}
