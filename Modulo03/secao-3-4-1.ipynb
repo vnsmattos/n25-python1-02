{
 "cells": [
  {
   "cell_type": "code",
   "execution_count": null,
   "metadata": {},
   "outputs": [],
   "source": [
    "# Seção 3.4 Listas"
   ]
  },
  {
   "cell_type": "code",
   "execution_count": 1,
   "metadata": {},
   "outputs": [
    {
     "name": "stdout",
     "output_type": "stream",
     "text": [
      "3\n",
      "[1, 2, 9, 4, 5, 6]\n",
      "6\n",
      "[1, 2, 9, 4, 6]\n"
     ]
    }
   ],
   "source": [
    "# Representando uma lista\n",
    "lista = [1, 2, 3, 4, 5, 6]\n",
    "print(lista[2])\n",
    "lista[2] = 9 # alterando o item da posição 2\n",
    "print(lista)\n",
    "print(len(lista)) # retorna o tamnho da lista\n",
    "del lista[4] #removendo o índice 4 da lista\n",
    "print(lista)\n",
    "\n"
   ]
  },
  {
   "cell_type": "code",
   "execution_count": 8,
   "metadata": {},
   "outputs": [
    {
     "name": "stdout",
     "output_type": "stream",
     "text": [
      "5\n",
      "4\n",
      "1\n",
      "1\n",
      "5\n"
     ]
    }
   ],
   "source": [
    "# Acessando elementos com índice negativo\n",
    "lista = [1, 2, 3, 4, 5]\n",
    "print(lista[-1])\n",
    "print(lista[-2])\n",
    "print(lista[-5])\n",
    "print(lista[~(len(lista)-1)])\n",
    "print(lista[(len(lista)-1)])\n"
   ]
  },
  {
   "cell_type": "markdown",
   "metadata": {},
   "source": [
    "#### Funções x Métodos\n",
    "Exemplos de função: len(), min(), max(), print()\n",
    "Métodos é um pouco diferente.....\n",
    "Exemplo:   objeto.metodo()\n",
    "\n",
    "Exemplo de métodos:\n",
    "lista = [1,2,3,4,5]\n",
    "lista.append(6)  <-- Isso adiciona o número 6 para a lista no final "
   ]
  },
  {
   "cell_type": "code",
   "execution_count": 12,
   "metadata": {},
   "outputs": [
    {
     "name": "stdout",
     "output_type": "stream",
     "text": [
      "[1, 2, 3, 4, 5, 6]\n",
      "['__add__', '__class__', '__class_getitem__', '__contains__', '__delattr__', '__delitem__', '__dir__', '__doc__', '__eq__', '__format__', '__ge__', '__getattribute__', '__getitem__', '__getstate__', '__gt__', '__hash__', '__iadd__', '__imul__', '__init__', '__init_subclass__', '__iter__', '__le__', '__len__', '__lt__', '__mul__', '__ne__', '__new__', '__reduce__', '__reduce_ex__', '__repr__', '__reversed__', '__rmul__', '__setattr__', '__setitem__', '__sizeof__', '__str__', '__subclasshook__', 'append', 'clear', 'copy', 'count', 'extend', 'index', 'insert', 'pop', 'remove', 'reverse', 'sort']\n",
      "[1, 2, 3, 9, 4, 5, 6]\n"
     ]
    }
   ],
   "source": [
    "lista = [1,2,3,4,5]\n",
    "lista.append(6)\n",
    "print(lista)\n",
    "print(dir(lista))  # mostra todas as propriedades da lista\n",
    "lista.insert(3,9)\n",
    "print(lista)"
   ]
  },
  {
   "cell_type": "code",
   "execution_count": 14,
   "metadata": {},
   "outputs": [
    {
     "name": "stdout",
     "output_type": "stream",
     "text": [
      "Indice: 0 Valor: 1\n",
      "Indice: 1 Valor: 2\n",
      "Indice: 2 Valor: 3\n",
      "Indice: 3 Valor: 4\n",
      "Indice: 4 Valor: 5\n",
      "fim de programa\n"
     ]
    }
   ],
   "source": [
    "# Usando o for em listas\n",
    "lista = [1,2,3,4,5]\n",
    "for i in range(len(lista)):\n",
    "    print(\"Indice:\", i, \"Valor:\",lista[i])\n",
    "print(\"fim de programa\")"
   ]
  },
  {
   "cell_type": "code",
   "execution_count": 15,
   "metadata": {},
   "outputs": [
    {
     "name": "stdout",
     "output_type": "stream",
     "text": [
      "Valor: 1\n",
      "Valor: 2\n",
      "Valor: 3\n",
      "Valor: 4\n",
      "Valor: 5\n",
      "fim de programa\n"
     ]
    }
   ],
   "source": [
    "# Usando o for em listas pelo valor\n",
    "lista = [1,2,3,4,5]\n",
    "for el in lista:\n",
    "    print(\"Valor:\",el)\n",
    "print(\"fim de programa\")"
   ]
  },
  {
   "cell_type": "code",
   "execution_count": 22,
   "metadata": {},
   "outputs": [
    {
     "name": "stdout",
     "output_type": "stream",
     "text": [
      "[7, 6, 5, 4, 3, 2, 1]\n"
     ]
    }
   ],
   "source": [
    "# Permuta de elementos\n",
    "lista = [1,2,3,4,5,6,7]\n",
    "for i in range(len(lista)//2): #reverse da lista\n",
    "    lista[i],lista[~i]= lista[~i], lista[i]\n",
    "print(lista)"
   ]
  },
  {
   "cell_type": "code",
   "execution_count": 32,
   "metadata": {},
   "outputs": [
    {
     "name": "stdout",
     "output_type": "stream",
     "text": [
      "3\n",
      "[1, [2, 3]]\n",
      "3\n"
     ]
    }
   ],
   "source": [
    "lista = [1, 2.5, \"olá\", [1,2,3], [1,[2,3]], True]\n",
    "print(lista[3][2])\n",
    "print(lista[4])\n",
    "print(lista[4][1][1])"
   ]
  }
 ],
 "metadata": {
  "kernelspec": {
   "display_name": ".venv",
   "language": "python",
   "name": "python3"
  },
  "language_info": {
   "codemirror_mode": {
    "name": "ipython",
    "version": 3
   },
   "file_extension": ".py",
   "mimetype": "text/x-python",
   "name": "python",
   "nbconvert_exporter": "python",
   "pygments_lexer": "ipython3",
   "version": "3.13.2"
  }
 },
 "nbformat": 4,
 "nbformat_minor": 2
}
