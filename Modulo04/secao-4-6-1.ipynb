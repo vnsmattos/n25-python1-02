{
 "cells": [
  {
   "cell_type": "markdown",
   "metadata": {},
   "source": [
    "# 4.6.1 - tuplas e dicionários\n",
    "### Tuplas "
   ]
  },
  {
   "cell_type": "code",
   "execution_count": 3,
   "metadata": {},
   "outputs": [
    {
     "name": "stdout",
     "output_type": "stream",
     "text": [
      "() (1, 2) (1, 2)\n",
      "(1,)\n"
     ]
    }
   ],
   "source": [
    "# Definindo uma tupla vazia\n",
    "tupla = ()\n",
    "# Definindo uma tupla com 2 elementos\n",
    "tupla_v1 = (1,2)\n",
    "tupla_v2 = 1, 2\n",
    "print(tupla, tupla_v1, tupla_v2)\n",
    "# definindo uma tupla com 1 elemento - usa-se a vírgula após o número com exemplo abaixo\n",
    "tupla_v3 = (1,)\n",
    "print(tupla_v3)\n",
    "\n"
   ]
  },
  {
   "cell_type": "code",
   "execution_count": null,
   "metadata": {},
   "outputs": [],
   "source": [
    "# Operações com TUPLAS (NÃO PERMITIDO)\n",
    "tupla = (1,2,3,4,5)\n",
    "tupla.append(5) # isso não pode\n",
    "tupla.insert(1,6) # isso não pode\n",
    "del tupla[2] # não pode\n",
    "tupla[4] = 10 # Isso também não é permitido\n"
   ]
  },
  {
   "cell_type": "code",
   "execution_count": 6,
   "metadata": {},
   "outputs": [
    {
     "name": "stdout",
     "output_type": "stream",
     "text": [
      "(1, 2, 3, 4, 5, 6, 7, 8)\n",
      "(2, 3, 4, 5, 6, 7)\n",
      "True\n",
      "False\n"
     ]
    }
   ],
   "source": [
    "# Operações com TUPLAS - É PERMITIDO UNIR DUAS TUPLAS\n",
    "tupla = (1,2,3,4,5)\n",
    "tupla = tupla + (6,7,8)\n",
    "print(tupla)\n",
    "print(tupla[1:-1]) # É permitido opreações de FATIAMENTO com tuplas \n",
    "print(6 in tupla)\n",
    "print(5 not in tupla) \n"
   ]
  },
  {
   "cell_type": "markdown",
   "metadata": {},
   "source": [
    "### Dicionário - (Caracteristica --> nome da chave(nome) e valor(vinicius))\n"
   ]
  },
  {
   "cell_type": "code",
   "execution_count": 18,
   "metadata": {},
   "outputs": [
    {
     "name": "stdout",
     "output_type": "stream",
     "text": [
      "Vinicius Fernandes\n",
      "{'nome': 'Vinicius Fernandes', 'endereço': 'Ruas das ruas, 15', 'telefone': '123456789'}\n",
      "3\n",
      "True\n",
      "celular in dic\n",
      "dict_keys(['nome', 'endereço', 'telefone'])\n",
      "dict_items([('nome', 'Vinicius Fernandes'), ('endereço', 'Ruas das ruas, 15'), ('telefone', '123456789')])\n",
      "nome, endereço, telefone, \n",
      "Vinicius Fernandes, Ruas das ruas, 15, 123456789, \n",
      "nome = Vinicius Fernandes, endereço = Ruas das ruas, 15, telefone = 123456789, "
     ]
    }
   ],
   "source": [
    "dic = { \"nome\" : \"Vinicius Fernandes\", \"endereço\": \"Ruas das ruas, 15\" }\n",
    "print(dic[\"nome\"])\n",
    "dic[\"telefone\"] = \"123456789\"\n",
    "print(dic)\n",
    "print(len(dic))\n",
    "print(\"nome\" in dic)\n",
    "print(\"celular in dic\")\n",
    "print(dic.keys())\n",
    "print(dic.items())\n",
    "for el in dic.keys(): print(el,end=\", \")\n",
    "print()\n",
    "for el in dic.values(): print(el,end=\", \")\n",
    "print()\n",
    "for ch, v1 in dic.items(): print(ch,\"=\",v1,end=\", \")"
   ]
  }
 ],
 "metadata": {
  "kernelspec": {
   "display_name": ".venv",
   "language": "python",
   "name": "python3"
  },
  "language_info": {
   "codemirror_mode": {
    "name": "ipython",
    "version": 3
   },
   "file_extension": ".py",
   "mimetype": "text/x-python",
   "name": "python",
   "nbconvert_exporter": "python",
   "pygments_lexer": "ipython3",
   "version": "3.13.2"
  }
 },
 "nbformat": 4,
 "nbformat_minor": 2
}
