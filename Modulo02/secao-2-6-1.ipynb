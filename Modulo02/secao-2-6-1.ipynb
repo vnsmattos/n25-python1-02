{
 "cells": [
  {
   "cell_type": "markdown",
   "metadata": {},
   "source": [
    "# Interação com o usuário\n",
    "### função input()"
   ]
  },
  {
   "cell_type": "code",
   "execution_count": null,
   "metadata": {},
   "outputs": [
    {
     "name": "stdout",
     "output_type": "stream",
     "text": [
      "Digite sua idade:\n"
     ]
    }
   ],
   "source": [
    "print(\"Digite sua idade:\")\n",
    "idade = input()\n",
    "print(\"Você tem \" + idade + \" anos.\")"
   ]
  },
  {
   "cell_type": "code",
   "execution_count": null,
   "metadata": {},
   "outputs": [
    {
     "name": "stdout",
     "output_type": "stream",
     "text": [
      "Você tem 10 anos.\n",
      "<class 'str'>\n"
     ]
    }
   ],
   "source": [
    "idade = input(\"digite sua idade: \") # A forma como estamos passando a mensagem como argumento\n",
    "print(\"Você tem \" + idade + \" anos.\")\n",
    "print(type(idade))\n"
   ]
  },
  {
   "cell_type": "code",
   "execution_count": null,
   "metadata": {},
   "outputs": [
    {
     "name": "stdout",
     "output_type": "stream",
     "text": [
      "Você nasceu em 1986.\n",
      "Você nasceu em 1986.\n"
     ]
    }
   ],
   "source": [
    "# Isso não será possível fazer\n",
    "idade = int(input (\"Digite sua idade: \")) # se não converter dá erro abaixo \n",
    "ano_nascimento = 2025 - idade #erro de tipo, idade é uma string e não um int (inteiro)\n",
    "print(\"Você nasceu em \" + str(ano_nascimento) + \".\") # convertendo o ano para string\n",
    "print(\"Você nasceu em \" ,ano_nascimento,\".\",sep=\"\") # usando argumento do print "
   ]
  },
  {
   "cell_type": "markdown",
   "metadata": {},
   "source": [
    "# Desenvolver um programa para solicitar um valor de uma temperatura \n",
    "#em graus celsius e convertê-la para graus Fahrenheit.\n",
    "# A fórmula de conversão é: \n",
    "# F = C * 9/5 + 32 "
   ]
  },
  {
   "cell_type": "code",
   "execution_count": null,
   "metadata": {},
   "outputs": [
    {
     "name": "stdout",
     "output_type": "stream",
     "text": [
      "A temperatura em fahrenheit é: 80.6°F\n"
     ]
    }
   ],
   "source": [
    "celsius = float(input(\"Digite a temperatura em Celcius: \" ))\n",
    "fahrenheit = 9/5 * celsius + 32\n",
    "print(\"A temperatura em fahrenheit é: \", fahrenheit, \"°F\", sep=\"\")\n"
   ]
  },
  {
   "cell_type": "markdown",
   "metadata": {},
   "source": [
    "# Laboratório 2.6.10"
   ]
  },
  {
   "cell_type": "code",
   "execution_count": null,
   "metadata": {},
   "outputs": [
    {
     "name": "stdout",
     "output_type": "stream",
     "text": [
      "y = 0.6666666666666666\n"
     ]
    }
   ],
   "source": [
    "x = float(input(\"Digite o valor para x: \"))\n",
    "\n",
    "y = 1/(x+1/(x+1/(x/1/x)))\n",
    "\n",
    "print(\"y =\", y)\n"
   ]
  },
  {
   "cell_type": "markdown",
   "metadata": {},
   "source": [
    "# Laboratório 2.6.11\n"
   ]
  },
  {
   "cell_type": "code",
   "execution_count": 4,
   "metadata": {},
   "outputs": [
    {
     "name": "stdout",
     "output_type": "stream",
     "text": [
      "22:25\n"
     ]
    }
   ],
   "source": [
    "hour = int(input(\"Hora de início (horas): \"))\n",
    "mins = int(input(\"Hora de início (minutos): \"))\n",
    "dura = int(input(\"Duração do evento (minutos): \"))\n",
    "# Escreva seu código aqui.\n",
    "tempo_total = hour * 60 + mins + dura #converte tudo para minutos\n",
    "hora_final = tempo_total // 60 % 24 # pega a parte inteira da divisão\n",
    "minuto_final = tempo_total % 60 # pega o resto da divisão \n",
    "# imprimir o resultado em horas e minutos\n",
    "print(hora_final, minuto_final, sep=\":\")\n"
   ]
  }
 ],
 "metadata": {
  "kernelspec": {
   "display_name": ".venv",
   "language": "python",
   "name": "python3"
  },
  "language_info": {
   "codemirror_mode": {
    "name": "ipython",
    "version": 3
   },
   "file_extension": ".py",
   "mimetype": "text/x-python",
   "name": "python",
   "nbconvert_exporter": "python",
   "pygments_lexer": "ipython3",
   "version": "3.13.2"
  }
 },
 "nbformat": 4,
 "nbformat_minor": 2
}
