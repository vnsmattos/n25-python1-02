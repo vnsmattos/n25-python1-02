{
 "cells": [
  {
   "cell_type": "markdown",
   "metadata": {},
   "source": [
    "# Tomada de decisão\n",
    "## Operações relacionais (true or false)\n",
    "### Operador de igualdade (==)\n"
   ]
  },
  {
   "cell_type": "code",
   "execution_count": 43,
   "metadata": {},
   "outputs": [
    {
     "name": "stdout",
     "output_type": "stream",
     "text": [
      "False\n",
      "True\n",
      "True\n",
      "True\n"
     ]
    }
   ],
   "source": [
    "print(1==2)\n",
    "print(1==1)\n",
    "print(1==1.0)\n",
    "print(2==0b10) #binary 2\n"
   ]
  },
  {
   "cell_type": "markdown",
   "metadata": {},
   "source": [
    "### Operador de desigualdade( != )"
   ]
  },
  {
   "cell_type": "code",
   "execution_count": 44,
   "metadata": {},
   "outputs": [
    {
     "name": "stdout",
     "output_type": "stream",
     "text": [
      "True\n",
      "False\n",
      "False\n",
      "False\n"
     ]
    }
   ],
   "source": [
    "print(1!=2)\n",
    "print(1!=1)\n",
    "print(1!=1.0)\n",
    "print(2!=0b10) #binary 2\n"
   ]
  },
  {
   "cell_type": "markdown",
   "metadata": {},
   "source": [
    "### Operador maior que ( > ) e maior e igual ( >= )"
   ]
  },
  {
   "cell_type": "code",
   "execution_count": 45,
   "metadata": {},
   "outputs": [
    {
     "name": "stdout",
     "output_type": "stream",
     "text": [
      "False\n",
      "False\n",
      "True\n",
      "True\n"
     ]
    }
   ],
   "source": [
    "print(1>2)\n",
    "print(1>1)\n",
    "print(1>=1.0)\n",
    "print(2>=0b10) #binary 2\n"
   ]
  },
  {
   "cell_type": "markdown",
   "metadata": {},
   "source": [
    "### Operador menor que ( < ) e menor e igual ( <= )"
   ]
  },
  {
   "cell_type": "code",
   "execution_count": 46,
   "metadata": {},
   "outputs": [
    {
     "name": "stdout",
     "output_type": "stream",
     "text": [
      "True\n",
      "False\n",
      "True\n",
      "True\n"
     ]
    }
   ],
   "source": [
    "print(1<2)\n",
    "print(1<1)\n",
    "print(1<=1.0)\n",
    "print(2<=0b10) #binary 2\n"
   ]
  },
  {
   "cell_type": "markdown",
   "metadata": {},
   "source": [
    "#### Atualizando a lista de prioridades de operadores\n",
    "| Seq | Operador | Descrição |\n",
    "| - | - | - |\n",
    "| 1 | ** | Exponenciação |\n",
    "| 2 | +,- | Unários Sinal |\n",
    "| 3 | *,/,//,% | Multiplicação. divisão e resto |\n",
    "| 4 | +,- | Soma e Subtração |\n",
    "| 5 | >, >=, <, <= | Maior, maior igual, menor, menor igual |\n",
    "| 6 | ==, != | iguadade e diferença |"
   ]
  },
  {
   "cell_type": "markdown",
   "metadata": {},
   "source": [
    "### Operador if (SE)\n",
    "sintaxe:\n",
    "if condicao_verdade:\n",
    "    comando_a_ser_executado1()\n",
    "    comando_a_ser_executado2()"
   ]
  },
  {
   "cell_type": "code",
   "execution_count": null,
   "metadata": {},
   "outputs": [],
   "source": [
    "idade = int(input(\"Digite sua idade: \"))\n",
    "if idade >= 18:\n",
    "    print(\"você é maior de idade\")\n",
    "    print(\"Você pode dirigir, se habilitado!\")\n",
    "print(\"fim do programa\")\n"
   ]
  },
  {
   "cell_type": "markdown",
   "metadata": {},
   "source": [
    "### Instrução else (senao)\n"
   ]
  },
  {
   "cell_type": "code",
   "execution_count": null,
   "metadata": {},
   "outputs": [
    {
     "name": "stdout",
     "output_type": "stream",
     "text": [
      "Você é menor de idade\n",
      "Você não pode dirigir\n",
      "fim de papo\n"
     ]
    }
   ],
   "source": [
    "idade = int(input(\"Digite sua idade: \"))\n",
    "if idade >= 18:\n",
    "    print(\"você é maior de idade\")\n",
    "    print(\"Você pode dirigir, se habilitado!\")\n",
    "else:\n",
    "    print(\"Você é menor de idade\")\n",
    "    print(\"Você não pode dirigir\")\n",
    "print(\"fim de papo\")"
   ]
  },
  {
   "cell_type": "markdown",
   "metadata": {},
   "source": [
    "### if encadeado"
   ]
  },
  {
   "cell_type": "code",
   "execution_count": null,
   "metadata": {},
   "outputs": [
    {
     "name": "stdout",
     "output_type": "stream",
     "text": [
      "você é maior de idade\n",
      "Você pode dirigir, se habilitado!\n",
      "fim do programa\n"
     ]
    }
   ],
   "source": [
    "idade = int(input(\"Digite sua idade: \"))\n",
    "if idade >= 18:\n",
    "    print(\"Você é maior de idade\")\n",
    "    print(\"Você pode dirigir, se habilitado!\")\n",
    "    if idade >=70:\n",
    "        print(\"Você deve fazer exames anuais\")\n",
    "    else:\n",
    "        if idade >= 65:\n",
    "            print(\"Você deve fazer médicos a cada 2 anos\")        \n",
    "else:\n",
    "    print(\"Você é menor de idade\")\n",
    "    print(\"Você não pode dirigir\")\n",
    "print(\"fim do programa\")"
   ]
  },
  {
   "cell_type": "markdown",
   "metadata": {},
   "source": [
    "### Instrução elif"
   ]
  },
  {
   "cell_type": "code",
   "execution_count": 2,
   "metadata": {},
   "outputs": [
    {
     "name": "stdout",
     "output_type": "stream",
     "text": [
      "Você é maior de idade\n",
      "Você pode dirigir, se habilitado!\n",
      "Você deve fazer exames anuais\n"
     ]
    }
   ],
   "source": [
    "idade = int(input(\"Digite sua idade: \"))\n",
    "if idade >= 70:\n",
    "    print(\"Você é maior de idade\")\n",
    "    print(\"Você pode dirigir, se habilitado!\")\n",
    "    print(\"Você deve fazer exames anuais\")\n",
    "\n",
    "elif idade >= 65:\n",
    "    print(\"Você é maior de idade\")\n",
    "    print(\"Você pode dirigir, se habilitado!\")\n",
    "    print(\"Você deve fazer exames a cada 2 anos\")\n",
    "elif idade >= 18:\n",
    "    print(\"Você é maior de idade\")\n",
    "    print(\"Você pode dirigir, se habilitado!\")\n",
    "else:\n",
    "    print(\"Você é menor de idade\")\n",
    "    "
   ]
  },
  {
   "cell_type": "markdown",
   "metadata": {},
   "source": [
    "# Obtendo o maior número entre dois números\n"
   ]
  },
  {
   "cell_type": "code",
   "execution_count": 3,
   "metadata": {},
   "outputs": [
    {
     "name": "stdout",
     "output_type": "stream",
     "text": [
      "O maior número é:  109\n"
     ]
    }
   ],
   "source": [
    "num1 = int(input(\"digite o primeiro número: \"))\n",
    "num2 = int (input(\"digite o segundo número: \"))\n",
    "num3 = int (input(\"digite o segundo número: \"))\n",
    "maior = num1\n",
    "if num2 > maior:\n",
    "    maior = num2\n",
    "if num3 > maior:\n",
    "    maior = num3\n",
    "print(\"O maior número é: \", maior) "
   ]
  },
  {
   "cell_type": "code",
   "execution_count": 5,
   "metadata": {},
   "outputs": [
    {
     "name": "stdout",
     "output_type": "stream",
     "text": [
      "vinicius é maior que Vinicíus\n"
     ]
    }
   ],
   "source": [
    "# Uso do if com strings\n",
    "nome = input (\"Digite seu nome: \")\n",
    "nome2 = input (\"Digite outro nome: \")\n",
    "if nome > nome2:\n",
    "    print(nome, \"é maior que\", nome2)\n",
    "else:\n",
    "    print(nome2, \"é maior que ou igual a \", nome)"
   ]
  },
  {
   "cell_type": "markdown",
   "metadata": {},
   "source": [
    "# código lab 3.1.10  ------> código inacabado!!!!"
   ]
  },
  {
   "cell_type": "code",
   "execution_count": null,
   "metadata": {},
   "outputs": [
    {
     "ename": "SyntaxError",
     "evalue": "invalid syntax (2154822856.py, line 4)",
     "output_type": "error",
     "traceback": [
      "  \u001b[36mCell\u001b[39m\u001b[36m \u001b[39m\u001b[32mIn[10]\u001b[39m\u001b[32m, line 4\u001b[39m\n\u001b[31m    \u001b[39m\u001b[31melif\u001b[39m\n        ^\n\u001b[31mSyntaxError\u001b[39m\u001b[31m:\u001b[39m invalid syntax\n"
     ]
    }
   ],
   "source": [
    "flor = input(\"Digite o nome de uma flor: \")\n",
    "if flor == \"spathiphllum\":\n",
    "    print(\"No, Iwnat a big Spathiphulum\")\n",
    "elif\n",
    "else: \n"
   ]
  },
  {
   "cell_type": "markdown",
   "metadata": {},
   "source": [
    "#Lab 3.1.11 Essenciais da declaração if-else"
   ]
  },
  {
   "cell_type": "code",
   "execution_count": 18,
   "metadata": {},
   "outputs": [
    {
     "name": "stdout",
     "output_type": "stream",
     "text": [
      "A taxa é: 159999987470.0 thalers\n"
     ]
    }
   ],
   "source": [
    "income = float(input(\"Entre com os rendimentos anuais \"))\n",
    "\n",
    "if income < 85528:\n",
    "    tax = income * 0.18 - 556.02\n",
    "else: \n",
    " tax = (income - 85528) * 0.32 + 14839.02\n",
    "\n",
    "if tax < 0:\n",
    "    tax = 0\n",
    "\n",
    "tax = round(tax, 0)\n",
    "print(\"A taxa é:\", tax, \"thalers\") "
   ]
  },
  {
   "cell_type": "markdown",
   "metadata": {},
   "source": [
    "# Lab 3.1.12 "
   ]
  },
  {
   "cell_type": "code",
   "execution_count": 26,
   "metadata": {},
   "outputs": [
    {
     "name": "stdout",
     "output_type": "stream",
     "text": [
      "Ano bissexto\n"
     ]
    }
   ],
   "source": [
    "year = int(input(\"digite um ano: \"))\n",
    "if year < 1582:\n",
    "    print (\"Não dentro do período do calendário gregoriano\")\n",
    "else:\n",
    "    if year % 4 != 0: \n",
    "        print (\"Ano comum\")\n",
    "    elif year % 100 != 0:\n",
    "        print (\"Ano bissexto\") \n",
    "    elif year % 400 != 0:\n",
    "        print(\"Ano comum!\")\n",
    "    else:\n",
    "        print (\"Ano bissexto\")\n"
   ]
  },
  {
   "cell_type": "markdown",
   "metadata": {},
   "source": [
    "# Multipla atribuição ...\n",
    "a, b, c = 1, 2, 3\n",
    "# valore de a = 5, b = 6, faça uma permuta de com as variáveis\n",
    "a = 5 \n",
    "b = 6\n",
    "# Efetuando a troca\n",
    "apoio = a \n",
    "a = b \n",
    "b = apoio\n",
    "# efetuando a permuta no python\n",
    "a, b = b, a"
   ]
  }
 ],
 "metadata": {
  "kernelspec": {
   "display_name": ".venv",
   "language": "python",
   "name": "python3"
  },
  "language_info": {
   "codemirror_mode": {
    "name": "ipython",
    "version": 3
   },
   "file_extension": ".py",
   "mimetype": "text/x-python",
   "name": "python",
   "nbconvert_exporter": "python",
   "pygments_lexer": "ipython3",
   "version": "3.13.2"
  }
 },
 "nbformat": 4,
 "nbformat_minor": 2
}
