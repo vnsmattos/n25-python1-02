{
 "cells": [
  {
   "cell_type": "markdown",
   "metadata": {},
   "source": [
    "# 3.3 Lógica e operadores bit-a-bit\n",
    "### Operadores lógicos and, or e not\n",
    "\n",
    "| A | B | A and B | A or B | not A\n",
    "| - | - | :-: | :-: | :-: | \n",
    "| True | True | True | True | False |\n",
    "| True | False | False | True | False |\n",
    "| False | True | False | True | True |\n",
    "| False | False | False | False | True |"
   ]
  },
  {
   "cell_type": "code",
   "execution_count": 5,
   "metadata": {},
   "outputs": [
    {
     "name": "stdout",
     "output_type": "stream",
     "text": [
      "Pode dirigir sem restrições, desde que com CNH apta.\n",
      "Idade inválida!\n",
      "Idade inválida!\n"
     ]
    }
   ],
   "source": [
    "idade = 19\n",
    "if idade  >=18 and idade <=60:\n",
    "    print(\"Pode dirigir sem restrições, desde que com CNH apta.\")\n",
    "idade = 10 \n",
    "while idade <18 or idade >60:\n",
    "    idade = int(input(\"digite uma idade entre 18 e 60: \"))\n",
    "    if idade <18 or idade>60: print (\"Idade inválida!\")\n",
    "    if not(idade) >=18 and idade <=60: print (\"Idade inválida!\")\n",
    "# Só vai sair do laço com uma idade entre 18 e 60"
   ]
  },
  {
   "cell_type": "code",
   "execution_count": 8,
   "metadata": {},
   "outputs": [],
   "source": [
    "idade = int(input(\"Digite uma idade maior que 0: \"))\n",
    "if not idade:\n",
    "    print(\"idade inválida!\")"
   ]
  },
  {
   "cell_type": "markdown",
   "metadata": {},
   "source": [
    "### Operadores bit-a-bit\n",
    "#### Operador de conjunção ( & ) ou and bit-a-bit\n",
    "2 & 3  = 2\n",
    "2 10 &\n",
    "3 11 \n",
    "-------\n",
    "2 10"
   ]
  },
  {
   "cell_type": "code",
   "execution_count": 11,
   "metadata": {},
   "outputs": [
    {
     "name": "stdout",
     "output_type": "stream",
     "text": [
      "5 0101\n",
      "7 0111 &\n",
      "-------\n",
      "5 0101\n",
      "0b101\n",
      "0b111\n"
     ]
    }
   ],
   "source": [
    "a = 5\n",
    "b = 7\n",
    "print (a,f\"{a:04b}\")\n",
    "print (b,f\"{b:04b}\",\"&\")\n",
    "print (\"-\"*7)\n",
    "print(a&b,f\"{(a&b):04b}\")\n",
    "print(bin(a))\n",
    "print(bin(b))\n"
   ]
  },
  {
   "cell_type": "markdown",
   "metadata": {},
   "source": [
    "#### Operador de disjunção ( | ) ou or bit-a-bit\n",
    "5 0101\n",
    "7 0111 |\n",
    "------\n",
    "7 0111"
   ]
  },
  {
   "cell_type": "code",
   "execution_count": 16,
   "metadata": {},
   "outputs": [
    {
     "name": "stdout",
     "output_type": "stream",
     "text": [
      "5 0101\n",
      "7 0111 |\n",
      "-------\n",
      "7 0111\n",
      "0b101\n",
      "0b111\n"
     ]
    }
   ],
   "source": [
    "a = 5\n",
    "b = 7\n",
    "print (a,f\"{a:04b}\")\n",
    "print (b,f\"{b:04b}\",\"|\")\n",
    "print (\"-\"*7)\n",
    "print(a | b,f\"{(a | b):04b}\")\n",
    "print(bin(a))\n",
    "print(bin(b))"
   ]
  },
  {
   "cell_type": "markdown",
   "metadata": {},
   "source": [
    "#### operador xor ( ^ ) ou or exclusivo bit-a-bit - Se há dois 2 iguais, vira zero --> 0\n",
    "5 0101\n",
    "7 0111 ^\n",
    "------\n",
    "7 0010"
   ]
  },
  {
   "cell_type": "code",
   "execution_count": 17,
   "metadata": {},
   "outputs": [
    {
     "name": "stdout",
     "output_type": "stream",
     "text": [
      "5 0101\n",
      "7 0111 ^\n",
      "-------\n",
      "2 0010\n"
     ]
    }
   ],
   "source": [
    "a = 5\n",
    "b = 7\n",
    "print (a,f\"{a:04b}\")\n",
    "print (b,f\"{b:04b}\",\"^\")\n",
    "print (\"-\"*7)\n",
    "print(a ^ b,f\"{(a ^ b):04b}\")\n"
   ]
  },
  {
   "cell_type": "markdown",
   "metadata": {},
   "source": [
    "#### Complemento ( ~ ) ==> É sempre o número (5) mais um (1) e inverte (-) \n",
    "#### Exemplo => 2 + 1 = -3 --------- 7 + 1 = -8, etc \n",
    "~5 = -6"
   ]
  },
  {
   "cell_type": "code",
   "execution_count": 21,
   "metadata": {},
   "outputs": [
    {
     "name": "stdout",
     "output_type": "stream",
     "text": [
      "-6\n",
      "-10\n",
      "4\n"
     ]
    }
   ],
   "source": [
    "print (~5)\n",
    "print(~9)\n",
    "print(~-5)"
   ]
  },
  {
   "cell_type": "markdown",
   "metadata": {},
   "source": [
    "#### Deslocamento de bit para a esquerda ( << )\n",
    "1 << 2 resulta em  100\n"
   ]
  },
  {
   "cell_type": "code",
   "execution_count": 24,
   "metadata": {},
   "outputs": [
    {
     "name": "stdout",
     "output_type": "stream",
     "text": [
      "4 0100\n"
     ]
    }
   ],
   "source": [
    "print (1 << 2, f'{(1 <<2):04b}')"
   ]
  },
  {
   "cell_type": "markdown",
   "metadata": {},
   "source": [
    "#### Deslocamento de bit para a direita ( >> )\n",
    "5 >> 2 resulta em  1"
   ]
  },
  {
   "cell_type": "code",
   "execution_count": 26,
   "metadata": {},
   "outputs": [
    {
     "name": "stdout",
     "output_type": "stream",
     "text": [
      "1 0001\n"
     ]
    }
   ],
   "source": [
    "print (5 >> 2, f'{(5 >> 2):04b}')"
   ]
  },
  {
   "cell_type": "markdown",
   "metadata": {},
   "source": [
    "### Atualizando a tabela de precedência de operadores\n",
    "| Sequência | Operador | Descrição |\n",
    "| :-: | :-:| - |\n",
    "| 1 | ** | Exponenciação |\n",
    "| 2 | -,+,~ | Operadores unários e complemento |\n",
    "| 3 | * ,/, //, % | Multiplicação, Divisão e resto |\n",
    "| 4 | +,- | Soma e subtração |\n",
    "| 5 | <<, >> | Deslocamento de bit |\n",
    "| 6 | & | Conjunção |\n",
    "| 7 | \\| | Disjunção |\n",
    "| 8 | <,<=, >, >=, !, == | Operadores relacionais | \n",
    "| 9 | not | operador de negação |\n",
    "| 10 | and | Operador and|\n",
    "| 11 | or | Operador or|\n",
    "| 12 | +=,-=,*=, ...| Operador atalho |"
   ]
  }
 ],
 "metadata": {
  "kernelspec": {
   "display_name": ".venv",
   "language": "python",
   "name": "python3"
  },
  "language_info": {
   "codemirror_mode": {
    "name": "ipython",
    "version": 3
   },
   "file_extension": ".py",
   "mimetype": "text/x-python",
   "name": "python",
   "nbconvert_exporter": "python",
   "pygments_lexer": "ipython3",
   "version": "3.13.2"
  }
 },
 "nbformat": 4,
 "nbformat_minor": 2
}
