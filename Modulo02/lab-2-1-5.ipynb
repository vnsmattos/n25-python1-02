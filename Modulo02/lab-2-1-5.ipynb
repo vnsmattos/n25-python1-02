{
 "cells": [
  {
   "cell_type": "markdown",
   "metadata": {},
   "source": [
    "# Laboratório 2-1-5\n"
   ]
  },
  {
   "cell_type": "code",
   "execution_count": 10,
   "metadata": {},
   "outputs": [
    {
     "name": "stdout",
     "output_type": "stream",
     "text": [
      "olá python!\n",
      "vinicius\n"
     ]
    }
   ],
   "source": [
    "print (\"olá python!\")\n",
    "print ('vinicius') \n",
    "\n"
   ]
  },
  {
   "cell_type": "markdown",
   "metadata": {},
   "source": [
    "### Continuando sobre o print\n"
   ]
  },
  {
   "cell_type": "code",
   "execution_count": 25,
   "metadata": {},
   "outputs": [
    {
     "name": "stdout",
     "output_type": "stream",
     "text": [
      "A pequenina aranha escalou a tromba d'água.\n",
      "\n",
      "Caiu a chuva e levou a aranha.\n"
     ]
    }
   ],
   "source": [
    "print(\"A pequenina aranha escalou a tromba d'água.\")\n",
    "print ()\n",
    "print(\"Caiu a chuva e levou a aranha.\")"
   ]
  },
  {
   "cell_type": "markdown",
   "metadata": {},
   "source": [
    "### Tabulação de linha\n"
   ]
  },
  {
   "cell_type": "code",
   "execution_count": 26,
   "metadata": {},
   "outputs": [
    {
     "name": "stdout",
     "output_type": "stream",
     "text": [
      "\\\n",
      "1234\t5678\t90\n"
     ]
    }
   ],
   "source": [
    "print(\"\\\\\")\n",
    "print(\"1234\\t5678\\t90\")\n"
   ]
  },
  {
   "cell_type": "markdown",
   "metadata": {},
   "source": [
    "### Print com vários argumentos\n"
   ]
  },
  {
   "cell_type": "code",
   "execution_count": 21,
   "metadata": {},
   "outputs": [
    {
     "name": "stdout",
     "output_type": "stream",
     "text": [
      "a aranha pequenina subiu a tromba d'água.\n"
     ]
    }
   ],
   "source": [
    "print(\"a aranha pequenina\",\"subiu\",\"a tromba d'água.\")\n"
   ]
  },
  {
   "cell_type": "markdown",
   "metadata": {},
   "source": [
    "### Argumento palavra-chave (nomeado)"
   ]
  },
  {
   "cell_type": "code",
   "execution_count": 24,
   "metadata": {},
   "outputs": [
    {
     "name": "stdout",
     "output_type": "stream",
     "text": [
      "meu nome é Python. Monty Python\n"
     ]
    }
   ],
   "source": [
    "print (\"meu nome é\", \"Python.\", end= \" \")\n",
    "print (\"Monty Python\")\n"
   ]
  },
  {
   "cell_type": "markdown",
   "metadata": {},
   "source": [
    "### Argumento com traço"
   ]
  },
  {
   "cell_type": "code",
   "execution_count": 28,
   "metadata": {},
   "outputs": [
    {
     "name": "stdout",
     "output_type": "stream",
     "text": [
      "Meu-nome-é-Monty-Python.\n",
      "Meu_nome_é*Monty*Python.*\n"
     ]
    }
   ],
   "source": [
    "print(\"Meu\", \"nome\", \"é\", \"Monty\", \"Python.\", sep=\"-\")\n",
    "print(\"Meu\", \"nome\", \"é\", sep=\"_\", end=\"*\")\n",
    "print(\"Monty\", \"Python.\", sep=\"*\", end=\"*\\n\")\n"
   ]
  },
  {
   "cell_type": "markdown",
   "metadata": {},
   "source": [
    "## Laboratório 2-1-12\n",
    "#### Saída esperada\n",
    "````python\n",
    "Programação***Essenciais***em...python"
   ]
  },
  {
   "cell_type": "code",
   "execution_count": 29,
   "metadata": {},
   "outputs": [
    {
     "name": "stdout",
     "output_type": "stream",
     "text": [
      "Programação***Essenciais***em...Python\n"
     ]
    }
   ],
   "source": [
    "print(\"Programação\",\"Essenciais\",\"em\",sep=\"***\", end=\"...\")\n",
    "print(\"Python\")\n"
   ]
  },
  {
   "cell_type": "code",
   "execution_count": 31,
   "metadata": {},
   "outputs": [
    {
     "name": "stdout",
     "output_type": "stream",
     "text": [
      "argumento1-argumento2\n"
     ]
    }
   ],
   "source": [
    "# isso não pode fazer\n",
    "print(\"argumento1\",\"argumento2\",sep=\"-\")\n",
    "\n"
   ]
  },
  {
   "cell_type": "markdown",
   "metadata": {},
   "source": [
    "### Laboratório 2-2-13"
   ]
  },
  {
   "cell_type": "code",
   "execution_count": 42,
   "metadata": {},
   "outputs": [
    {
     "name": "stdout",
     "output_type": "stream",
     "text": [
      "    *          *          *          *          *      \n",
      "   *  *       *  *       *  *       *  *       *  *    \n",
      "  *    *     *    *     *    *     *    *     *    *   \n",
      " *      *   *      *   *      *   *      *   *      *  \n",
      "***    *** ***    *** ***    *** ***    *** ***    *** \n",
      "   *   *      *   *      *   *      *   *      *   *   \n",
      "   *   *      *   *      *   *      *   *      *   *   \n",
      "   *****      *****      *****      *****      *****   \n"
     ]
    }
   ],
   "source": [
    "print(\"    *      \"*5)\n",
    "print(\"   *  *    \"*5)\n",
    "print(\"  *    *   \"*5)\n",
    "print(\" *      *  \"*5)\n",
    "print(\"***    *** \"*5)\n",
    "print(\"   *   *   \"*5)\n",
    "print(\"   *   *   \"*5)\n",
    "print(\"   *****   \"*5)\n"
   ]
  }
 ],
 "metadata": {
  "kernelspec": {
   "display_name": ".venv",
   "language": "python",
   "name": "python3"
  },
  "language_info": {
   "codemirror_mode": {
    "name": "ipython",
    "version": 3
   },
   "file_extension": ".py",
   "mimetype": "text/x-python",
   "name": "python",
   "nbconvert_exporter": "python",
   "pygments_lexer": "ipython3",
   "version": "3.13.2"
  }
 },
 "nbformat": 4,
 "nbformat_minor": 2
}
